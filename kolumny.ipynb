{
 "cells": [
  {
   "cell_type": "code",
   "execution_count": 14,
   "metadata": {},
   "outputs": [],
   "source": [
    "import PyPDF2\n",
    "import re\n",
    "import os\n",
    "import pandas as pd\n",
    "import numpy as np\n",
    "import pdfplumber\n",
    "import spacy\n",
    "\n",
    "import fuzzywuzzy\n",
    "from fuzzywuzzy import fuzz\n",
    "from fuzzywuzzy import process"
   ]
  },
  {
   "cell_type": "code",
   "execution_count": 23,
   "metadata": {},
   "outputs": [],
   "source": [
    "tekst = 'Kluczowe informacje dla Inwestorów Niniejszy dokument zawiera Kluczowe informacje dla Inwestorów dotyczące tego subfunduszu. Nie są to  materiały marketingowe. Dostarczanie tych informacji jest wymogiem prawnym, mającym na celu ułatwienie  zrozumienia charakteru i ryzyka związanego z inwestowaniem w ten subfundusz. Przeczytanie niniejszego  dokumentu jest zalecane Inwestorowi, aby mógł on podjąć świadomą decyzję inwestycyjną. GENERALI DOLAR Generali Fundusze Fundusz Inwestycyjny Otwarty Kod ISIN PLUITFI00092 Subfundusz Generali Dolar zarządzany jest przez Generali Investments TFI S.A., należące do Grupy Generali Cele i polityka inwestycyjna • Celem inwestycyjnym subfunduszu jest wzrost wartości aktywów  wzorcem służącym do oceny efektywności inwestycji w jednostki  subfunduszu w wyniku wzrostu wartości lokat. Generali Dolar  uczestnictwa subfunduszu był Merill Lynch US Treasuries 3–5 lat w zł; inwestuje środki przede wszystkim w instrumenty rynku pieniężnego,  –  od dnia 16 sierpnia 2011 r. do 29 maja 2014 r. wzorcem służącym  publiczne i korporacyjne dłużne papiery wartościowe i listy zastawne  do oceny efektywności inwestycji w jednostki uczestnictwa  oraz certyfikaty depozytowe w bankach krajowych, bankach  subfunduszu był LIBOR USD 1M;  zagranicznych lub instytucjach kredytowych. Subfundusz inwestuje  –  od dnia 30 maja 2014 r. włącznie wzorcem służącym do oceny  aktywa w instrumenty rynku pieniężnego, w przypadku których  efektywności inwestycji w jednostki uczestnictwa subfunduszu  czas pozostający do wykupu nie przekracza 397 dni lub wysokość  jest LIBOR USD 1M ustalony 2 dni robocze przed ostatnim dniem  oprocentowania jest ustalana dla okresów nie dłuższych niż 397 dni,  roboczym poprzedniego miesiąca.  przy czym  instrumenty kwalifikowalne jako lokaty funduszy rynku  pieniężnego nie będą stanowić istotnego udziału. Udział pozostałych  • Zyski z inwestycji subfunduszu takie jak dywidendy są ponownie  kategorii lokat musi być niższy niż 30% wartości aktywów  inwestowane. subfunduszu. Minimum 50% aktywów subfundusz inwestuje   • Zalecenie: niniejszy subfundusz może nie być odpowiedni dla  w dłużne papiery wartościowe denominowane w USD.  Inwestorów, którzy planują wycofać swoje środki w ciągu 3 miesięcy. • Posiadacze jednostek uczestnictwa mogą – z zastrzeżeniem zawieszenia  • Subfundusz może także w swoich działaniach inwestycyjnych  umorzeń w wyniku nadzwyczajnych okoliczności – w każdym dniu  stosować instrumenty pochodne zarówno w celu ograniczenia  wyceny złożyć żądanie odkupienia jednostek uczestnictwa. ryzyka inwestycyjnego, jak i w celu zapewnienia sprawnego  • Poziom referencyjny (stopa odniesienia): zarządzania portfelem inwestycyjnym. –  od początku działalności do dnia 15 sierpnia 2011 r. włącznie  Profil ryzyka i zysku niskie ryzyko wysokie ryzyko • Ryzyko płynności  Ryzyko płynności jest związane z brakiem możliwości efektywnego  potencjalnie niższy zysk potencjalnie wyższy zysk przeprowadzenia transakcji mającej za przedmiot instrument  finansowy bez istotnego wpływu na cenę jej realizacji.  1 2 3 4 5 6 7 • Ryzyko kontrahenta  W przypadku transakcji zawieranych poza rynkiem regulowanym  powstaje ryzyko niewywiązania się kontrahenta z zawartej umowy,  Syntetyczny wskaźnik ryzyka stanowi miarę zmiany ceny jednostki  co może w rezultacie spowodować wahania (w tym spadek) wartości  uczestnictwa na podstawie danych historycznych. Syntetyczny  jednostek uczestnictwa subfunduszu. wskaźnik ryzyka może przybierać wartości od 1 (najmniej ryzykowny)  • Ryzyko operacyjne lub ryzyko związane z przechowywaniem  do 7 (najbardziej ryzykowny). aktywów  Dane historyczne, takie jak dane stosowane przy obliczaniu wskaźnika  Ryzyko bezpośredniej lub pośredniej straty, wynikającej  syntetycznego, nie dają pewności co do przyszłego profilu ryzyka  z niewłaściwych lub zawodnych procesów wewnętrznych  subfunduszu. systemów kontrolnych, ludzi i systemów informatycznych lub też  ze zdarzeń zewnętrznych. Aktywa subfunduszu przechowywane są  Nie ma gwarancji, że wskazana kategoria ryzyka i zysku pozostanie  u Depozytariusza i w bankach. Nienależyta kontrola nad aktywami  niezmienna oraz że przypisanie subfunduszu do określonej kategorii  może doprowadzić do wahania ceny jednostki uczestnictwa  może z czasem ulec zmianie. Najniższa kategoria nie oznacza  subfunduszu. inwestycji wolnych od ryzyka. • Ryzyko technik finansowych, o których mowa w art. 50 ust. 1  Nadany powyżej wskaźnik ryzyka wynika z inwestycji subfunduszu   lit. g) dyrektywy 2009/65/WE, takich jak kontrakty dotyczące  w instrumenty dłużne. We wskaźniku uwzględniono fakt, że subfundusz  instrumentów pochodnych mających wpływ na profil ryzyka  znaczącą część swojego portfela inwestuje w obligacje korporacyjne. subfunduszu  Ryzyka mające istotne znaczenie dla subfunduszu, które nie są  Ryzyka związane z zawieraniem przez fundusz na rachunek  odpowiednio uwzględnione przez wskaźnik: subfunduszu umów, mających za przedmiot instrumenty pochodne,  • Ryzyko kredytowe w przypadku wysokiego poziomu inwestycji  w tym niewystandaryzowane instrumenty pochodne, mogą wpływać  w dłużne papiery wartościowe  na wahania (w tym spadki) wartości jednostek uczestnictwa  Ryzyko kredytowe związane jest z kondycją finansową emitentów  subfunduszu. dłużnych papierów wartościowych wchodzących w skład portfela  inwestycyjnego subfunduszu. Ryzyko jest związane z czasową  lub trwałą utratą zdolności emitentów do terminowej realizacji  zobowiązań związanych z emitowanymi papierami wartościowymi. str. 1 Generali DolarOpłaty • Opłaty ponoszone przez Inwestora służą pokryciu kosztów  Opłaty jednorazowe pobierane przed dokonaniem inwestycji lub po nim związanych z działalnością subfunduszu, w tym kosztów dystrybucji  i kosztów wprowadzenia do obrotu. Opłata za nabycie jednostek uczestnictwa  5% • Opłaty te zmniejszają potencjalny wzrost inwestycji. Opłata za odkupienie jednostek uczestnictwa  5% • Opłaty za nabycie i umorzenie jednostek uczestnictwa podawane  są w wysokości maksymalnej. W niektórych przypadkach Inwestor  Jest to maksymalna kwota, jaka może zostać pobrana z Państwa środków przed  zainwestowaniem/przed wypłaceniem zysków z inwestycji. może wnosić niższą opłatę. Informacje dotyczące bieżącej  wysokości opłat można uzyskać w placówkach dystrybutorów oraz  w Punkcie Obsługi Klienta TFI. Opłaty pobierane z funduszu w ciągu roku • Wartość liczbowa określająca wysokość opłat bieżących opiera  Opłaty bieżące  2,51% się na wydatkach z roku 2018, w związku z czym wysokość opłat  bieżących może co roku ulegać zmianie. • Szczegółowe zasady dotyczące opłat znajdują się w prospekcie  Opłaty pobierane z funduszu w określonych warunkach szczególnych informacyjnym Generali FunduszeFIO w pkt. 25. Prospekt informacyjny  jest dostępny na stronie internetowej www.generali-investments.pl. Opłata za wyniki (%)  brak • W przypadku tego subfunduszu brak opłaty za wyniki. Wyniki osiągnięte w przeszłości 1-roczne stopy zwrotu subfunduszu i benchmarku Przedstawiane informacje finansowe dotyczą wskazanego okresu   % i nie gwarantują podobnych wyników w przyszłości. 16% 4,5 1 14% Data utworzenia subfunduszu: 23 kwietnia 2004 r. 12% Waluta, w której dokonywana jest wycena jednostki uczestnictwa: • od początku działalności do dnia 1 stycznia 2012 r.: PLN, 10% % 7 • od dnia 1 stycznia 2012 r.: USD. 8% 7,% % 7 5 6% 5, %5, WaWwk ayktynratwiożkdóśi ćywhm i asnkt edottynrtywiouc ó znwwnaye  jnc eoeedbtnntlyoioc  szzngtoakon ęjdee un dzcinoezo sezsts atUtkłnysęi t cnautawcw zpąaeo  zswd td nsotnicadiatwpw o2ieaw9  zo iwembdrliizancenizcśyahn nw ioaaa k 1jrert9esos9tś a4 cc ir h. .  420%%% -0,7% 3,0 2,4%0,2% 1,9%0,2% 0,9%0,2% 1,3%0,2% 1,2%0,5% 1,0%1,1% 1,2%2,0% o rachunkowości (Dz.U. z 2009 r. nr 152, poz. 1223 z późniejszymi  -2% zmianami) oraz przepisami rozporządzenia Ministra Finansów z dnia  2009 2010 2011 2012 2013 2014 2015 2016 2017 2018 24 grudnia 2007 r. w sprawie szczególnych zasad rachunkowości   Generali Dolar   Benchmark funduszy inwestycyjnych (Dz.U. z 2007 r. nr 249, poz. 1859). Wyniki  przedstawiane są po odliczeniu kosztów, które zgodnie ze Statutem są  pokrywane przez subfundusz. Kalkulacja nie obejmuje kosztów opłat  za nabycie i odkupienie jednostek uczestnictwa. Generali FunduszeFIO oraz w sprawozdaniach półrocznych i rocznych.  Szczegółowe informacje dotyczące opłat i zasad wyceny znajdują się  Prospekt informacyjny oraz sprawozdania są dostępne na stronie  odpowiednio w punktach nr 25 i 11 prospektu informacyjnego  internetowej www.generali-investments.pl. Informacje praktyczne Kluczowe informacje dla Inwestorów opisują subfundusz wydzielony  w Rzeczypospolitej Polskiej i podlega jej nadzorowi. w ramach Generali Fundusze Fundusz Inwestycyjny Otwarty.  Przepisy podatkowe w państwie członkowskim mogą mieć wpływ na  Prospekt informacyjny sporządzony jest dla całego funduszu Generali  osobistą sytuację podatkową Inwestora. FunduszeFIO.  Informacje na temat aktualnej wartości aktywów na jednostkę  Przepisy ustawy z dnia 27 maja 2004 r. o funduszach inwestycyjnych  uczestnictwa znajdują się na stronie www.generali-investments.pl. i zarządzaniu alternatywnymi funduszami inwestycyjnymi przewidują  Bank Depozytariusz: Deutsche Bank Polska Spółka Akcyjna z siedzibą  rozdzielenie aktywów i pasywów każdego z subfunduszy.  w Warszawie, al. Armii Ludowej 26, prowadzący rejestr aktywów  Zobowiązania wynikające z poszczególnych subfunduszy obciążają  funduszu i subrejestry aktywów wszystkich subfunduszy. tylko te subfundusze. Egzekucja może nastąpić tylko z aktywów  subfunduszu, z którego wynikają zobowiązania. Zobowiązania, które  Szczegółowe informacje dotyczące subfunduszu znajdują się  dotyczą całego funduszu, obciążają poszczególne subfundusze  w prospekcie informacyjnym. Prospekt informacyjny, tabele opłat, dane  proporcjonalnie do udziału wartości aktywów netto subfunduszu  o ryzyku inwestycyjnym i podatkach, a także sprawozdania finansowe  w wartości aktywów netto funduszu.  dostępne są w języku polskim, bezpłatnie, na stronie   www.generali-investments.pl. Inwestor ma prawo do zamiany swojej inwestycji w jednostki jednego  subfunduszu na jednostki innego subfunduszu. Szczegółowe  Polityka wynagrodzeń Generali Investments TFI jest udostępniana na  informacje na ten temat znajdują się w punkcie 6.5 prospektu  stronie internetowej www.generali-investments.pl. informacyjnego oraz w placówkach dystrybutorów. Spółka Generali Investments TFI S.A. może zostać pociągnięta do  Subfundusz Generali Dolar został utworzony w ramach w ramach  odpowiedzialności za każde oświadczenie zawarte w niniejszym  Generali Fundusze Fundusz Inwestycyjny Otwarty z wydzielonymi  dokumencie, które wprowadza w błąd, jest niezgodne ze stanem  subfunduszami, utworzonego na podstawie zezwolenia udzielonego  faktycznym lub niespójne z odpowiednimi częściami prospektu  przez Komisję Nadzoru Finansowego (KNF) na prowadzenie działalności  informacyjnego Generali FunduszeFIO. Niniejsze Kluczowe informacje dla Inwestorów są aktualne na dzień 25.09.2019 r. str. 2 Generali Dolar'"
   ]
  },
  {
   "cell_type": "code",
   "execution_count": 7,
   "metadata": {
    "scrolled": true
   },
   "outputs": [
    {
     "ename": "SyntaxError",
     "evalue": "unexpected EOF while parsing (<ipython-input-7-47b461182a08>, line 16)",
     "output_type": "error",
     "traceback": [
      "\u001b[1;36m  File \u001b[1;32m\"<ipython-input-7-47b461182a08>\"\u001b[1;36m, line \u001b[1;32m16\u001b[0m\n\u001b[1;33m    wkzt_tekst.split(\"Wyniki osiągnięte w przeszłości\".lower())[1].split(\"Informacje praktyczne\".lower())\u001b[0m\n\u001b[1;37m                                                                                                         ^\u001b[0m\n\u001b[1;31mSyntaxError\u001b[0m\u001b[1;31m:\u001b[0m unexpected EOF while parsing\n"
     ]
    }
   ],
   "source": [
    "# FIO/SFIO\n",
    "try:\n",
    "    wartosc = \"NULL\"\n",
    "    sf_tekst = tekst.lower()\n",
    "    if \"specjalistyczny fundusz inwestycyjny otwarty\" in sf_tekst:\n",
    "        wartosc = \"SFIO\"\n",
    "    elif \"fundusz inwestycyjny otwarty\" in sf_tekst:\n",
    "        wartosc = \"FIO\"\n",
    "except: \n",
    "    pass\n",
    "\n",
    "# WALUTA_KAPITALU_ZAKLADOWEGO_TOWARZYSTWA\n",
    "try:\n",
    "    waluta = \"NULL\"\n",
    "    wkzt_tekst = tekst.lower().split(\"Wyniki osiągnięte w przeszłości\".lower())[1].split(\"Informacje praktyczne\".lower())[0]\n",
    "    if (\"pln\" in wktz_tekst or \"złotówek\" in wkzt_tekst or \"zł\" in wktz_tekst or \"złotych\" in wktz_tekst):\n",
    "        waluta = \"PLN\"\n",
    "    elif (\"euro\" in wkzt_tekst):\n",
    "        waluta = \"EURO\"\n",
    "    elif (\"dol\" in wkzt_tekst or \"$\" in wkzt_tekst or \"dolarów\" in wkzt_tekst or \"dolar\" in wkzt_tekst):\n",
    "        waluta = \"DOLAR\"\n",
    "except:\n",
    "    pass\n",
    "\n",
    "\n",
    "# Siedziba towarzystwa\n",
    "try:\n",
    "    nlp = spacy.load(\"pl_core_news_sm\")\n",
    "    doc = nlp(cały_tekst, disable=[\"parser\", \"ner\", \"tagger\"])\n",
    "    lemma_list = []\n",
    "    for token in doc:\n",
    "        lemma_list.append(token.lemma_)\n",
    "except:\n",
    "    pass\n",
    "\n",
    "# NIP\n",
    "try:\n",
    "    nip = \"NULL\"\n",
    "    nip_tekst = tekst.lower().split(\"informacje praktyczne\")[1]\n",
    "    nipy = re.findall(\"\\d-\\d+-\\d+-\\d+\",nip_tekst)\n",
    "    if len(nipy) > 0:\n",
    "        nip = nipy[0]\n",
    "except:\n",
    "    pass\n",
    "\n",
    "# KRS\n",
    "try:\n",
    "    krs = \"NULL\"\n",
    "    krs_tekst = tekst.lower().split(\"informacje praktyczne\")[1]\n",
    "    krsy = re.findall(\"^\\d{10}$\")\n",
    "    if len(krsy) > 0:\n",
    "        krs = krsy[0]\n",
    "except:\n",
    "    pass\n",
    "\n"
   ]
  },
  {
   "cell_type": "code",
   "execution_count": 51,
   "metadata": {},
   "outputs": [],
   "source": [
    "aaa = nip_tekst[0]"
   ]
  },
  {
   "cell_type": "code",
   "execution_count": 42,
   "metadata": {},
   "outputs": [],
   "source": [
    "nip_tekst = tekst.lower().split(\"informacje praktyczne\")[1]"
   ]
  },
  {
   "cell_type": "code",
   "execution_count": 52,
   "metadata": {},
   "outputs": [
    {
     "data": {
      "text/plain": [
       "[]"
      ]
     },
     "execution_count": 52,
     "metadata": {},
     "output_type": "execute_result"
    }
   ],
   "source": [
    "nip_tekst = tekst.lower().split(\"informacje praktyczne\")\n",
    "re.findall(\"\\d-\\d+-\\d+-\\d+\",aaa)"
   ]
  },
  {
   "cell_type": "code",
   "execution_count": 53,
   "metadata": {},
   "outputs": [],
   "source": [
    "nlp = spacy.load(\"pl_core_news_sm\")\n",
    "doc = nlp(tekst.lower().split(\"informacje praktyczne\")[0].split(\"wyniki osiągnięte w przeszłości\")[1], disable=[\"parser\", \"ner\", \"tagger\"])\n",
    "lemma_list = []\n",
    "for token in doc:\n",
    "    lemma_list.append(token.lemma_)\n",
    "lemma_list"
   ]
  },
  {
   "cell_type": "code",
   "execution_count": 36,
   "metadata": {},
   "outputs": [
    {
     "ename": "ValueError",
     "evalue": "'dupa' is not in list",
     "output_type": "error",
     "traceback": [
      "\u001b[1;31m---------------------------------------------------------------------------\u001b[0m",
      "\u001b[1;31mValueError\u001b[0m                                Traceback (most recent call last)",
      "\u001b[1;32m<ipython-input-36-f80792f19fe4>\u001b[0m in \u001b[0;36m<module>\u001b[1;34m\u001b[0m\n\u001b[1;32m----> 1\u001b[1;33m \u001b[0mindex\u001b[0m \u001b[1;33m=\u001b[0m \u001b[0mlemma_list\u001b[0m\u001b[1;33m.\u001b[0m\u001b[0mindex\u001b[0m\u001b[1;33m(\u001b[0m\u001b[1;34m\"dupa\"\u001b[0m\u001b[1;33m)\u001b[0m\u001b[1;33m\u001b[0m\u001b[1;33m\u001b[0m\u001b[0m\n\u001b[0m",
      "\u001b[1;31mValueError\u001b[0m: 'dupa' is not in list"
     ]
    }
   ],
   "source": [
    "if siedziba in lemma_list:\n",
    "    index = lemma_list.index(\"siedziba\")\n",
    "    if"
   ]
  },
  {
   "cell_type": "markdown",
   "metadata": {},
   "source": []
  }
 ],
 "metadata": {
  "kernelspec": {
   "display_name": "Python 3",
   "language": "python",
   "name": "python3"
  },
  "language_info": {
   "codemirror_mode": {
    "name": "ipython",
    "version": 3
   },
   "file_extension": ".py",
   "mimetype": "text/x-python",
   "name": "python",
   "nbconvert_exporter": "python",
   "pygments_lexer": "ipython3",
   "version": "3.8.3"
  }
 },
 "nbformat": 4,
 "nbformat_minor": 4
}
