{
 "cells": [
  {
   "cell_type": "code",
   "execution_count": 26,
   "metadata": {},
   "outputs": [],
   "source": [
    "import os\n",
    "import pandas as pd"
   ]
  },
  {
   "cell_type": "code",
   "execution_count": 27,
   "metadata": {},
   "outputs": [],
   "source": [
    "def create_kiid_list():\n",
    "    kiids_list = []\n",
    "    for i in os.walk(os.getcwd()):\n",
    "        if(\"ipynb\" in i[0] or i[0] == os.getcwd()):\n",
    "            continue\n",
    "        for file in os.listdir(i[0]):\n",
    "            if file.split(\".\")[-1] == \"pdf\":\n",
    "                kiids_list.append(file)\n",
    "    df = pd.DataFrame({\"ID_KIID\": [i for i in range(1, len(kiids_list) + 1)], \"ID_ZESPOLU\": [6 for i in range(1, len(kiids_list) + 1)], \"NAZWA_PLIKU\": kiids_list})\n",
    "    return df"
   ]
  },
  {
   "cell_type": "code",
   "execution_count": 28,
   "metadata": {},
   "outputs": [
    {
     "name": "stdout",
     "output_type": "stream",
     "text": [
      "     ID_KIID  ID_ZESPOLU                                        NAZWA_PLIKU\n",
      "0          1           6  KIID_ALIOR_Globalny_Nowych_Technologii_kat.A.2...\n",
      "1          2           6  KIID_ALIOR_Globalny_Nowych_Technologii_kat.B.2...\n",
      "2          3           6          KIID_ALIOR_Obligacji_kat.A.26.09.2022.pdf\n",
      "3          4           6          KIID_ALIOR_Obligacji_kat.B.26.09.2022.pdf\n",
      "4          5           6           KIID_ALIOR_Ostrozny_kat.A.26.09.2022.pdf\n",
      "..       ...         ...                                                ...\n",
      "679      680           6                  KIID_Obligacji_Korporacyjnych.pdf\n",
      "680      681           6                   KIID_Ostroznego_Inwestowania.pdf\n",
      "681      682           6                          KIID_Selective_Equity.pdf\n",
      "682      683           6                 KIID_Selektywny_Akcji_Polskich.pdf\n",
      "683      684           6                        KIID_Stabilnego_Wzrostu.pdf\n",
      "\n",
      "[684 rows x 3 columns]\n"
     ]
    }
   ],
   "source": [
    "print(create_kiid_list())"
   ]
  }
 ],
 "metadata": {
  "kernelspec": {
   "display_name": "Python 3",
   "language": "python",
   "name": "python3"
  },
  "language_info": {
   "codemirror_mode": {
    "name": "ipython",
    "version": 3
   },
   "file_extension": ".py",
   "mimetype": "text/x-python",
   "name": "python",
   "nbconvert_exporter": "python",
   "pygments_lexer": "ipython3",
   "version": "3.8.3"
  }
 },
 "nbformat": 4,
 "nbformat_minor": 4
}
